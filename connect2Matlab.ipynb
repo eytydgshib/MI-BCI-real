{
 "cells": [
  {
   "cell_type": "code",
   "execution_count": null,
   "id": "61fc7452",
   "metadata": {},
   "outputs": [],
   "source": [
    "import vrpn\n",
    "import socket\n",
    "import time\n",
    "\n",
    "# 建立与MATLAB的连接\n",
    "host = 'localhost'\n",
    "port = ******\n",
    "s = socket.socket(socket.AF_INET, socket.SOCK_STREAM)\n",
    "s.connect((host, port))\n",
    "\n",
    "# VRPN回调函数\n",
    "def vrpn_callback(userdata, data):\n",
    "    print(f\"Received: D:\\openvibe file\\signal\")\n",
    "    # 发送数据到MATLAB\n",
    "    s.sendall(str(data.position).encode())\n",
    "\n",
    "# 创建VRPN客户端\n",
    "receiver = vrpn.receiver.Tracker(\"Tracker0@localhost\")\n",
    "receiver.register_change_handler(None, vrpn_callback, vrpn.TYPE_TRACKER)\n",
    "\n",
    "try:\n",
    "    while True:\n",
    "        receiver.mainloop()\n",
    "        time.sleep(0.1)\n",
    "except KeyboardInterrupt:\n",
    "    print(\"Interrupted\")\n",
    "\n",
    "s.close()\n"
   ]
  }
 ],
 "metadata": {
  "kernelspec": {
   "display_name": "Python 3 (ipykernel)",
   "language": "python",
   "name": "python3"
  },
  "language_info": {
   "codemirror_mode": {
    "name": "ipython",
    "version": 3
   },
   "file_extension": ".py",
   "mimetype": "text/x-python",
   "name": "python",
   "nbconvert_exporter": "python",
   "pygments_lexer": "ipython3",
   "version": "3.9.7"
  },
  "toc": {
   "base_numbering": 1,
   "nav_menu": {},
   "number_sections": true,
   "sideBar": true,
   "skip_h1_title": false,
   "title_cell": "Table of Contents",
   "title_sidebar": "Contents",
   "toc_cell": false,
   "toc_position": {},
   "toc_section_display": true,
   "toc_window_display": false
  },
  "varInspector": {
   "cols": {
    "lenName": 16,
    "lenType": 16,
    "lenVar": 40
   },
   "kernels_config": {
    "python": {
     "delete_cmd_postfix": "",
     "delete_cmd_prefix": "del ",
     "library": "var_list.py",
     "varRefreshCmd": "print(var_dic_list())"
    },
    "r": {
     "delete_cmd_postfix": ") ",
     "delete_cmd_prefix": "rm(",
     "library": "var_list.r",
     "varRefreshCmd": "cat(var_dic_list()) "
    }
   },
   "types_to_exclude": [
    "module",
    "function",
    "builtin_function_or_method",
    "instance",
    "_Feature"
   ],
   "window_display": false
  }
 },
 "nbformat": 4,
 "nbformat_minor": 5
}
